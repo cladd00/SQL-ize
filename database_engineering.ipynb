{
 "cells": [
  {
   "cell_type": "raw",
   "metadata": {},
   "source": [
    "Use SQLAlchemy to model your table schemas and create a sqlite database for your tables. You will need one table for measurements and one for stations.\n",
    "\n",
    "* Create a Jupyter Notebook called `database_engineering.ipynb` and use this to complete all of your Database Engineering work.\n",
    "\n",
    "* Use Pandas to read your cleaned measurements and stations CSV data.\n",
    "\n",
    "* Use the `engine` and connection string to create a database called `hawaii.sqlite`.\n",
    "\n",
    "* Use `declarative_base` and create ORM classes for each table.\n",
    "\n",
    "  * You will need a class for `Measurement` and for `Station`.\n",
    "\n",
    "  * Make sure to define your primary keys.\n",
    "\n",
    "* Once you have your ORM classes defined, create the tables in the database using `create_all`."
   ]
  },
  {
   "cell_type": "code",
   "execution_count": 1,
   "metadata": {},
   "outputs": [],
   "source": [
    "# Import Dependencies\n",
    "import pandas as pd \n",
    "import numpy as np\n",
    "import matplotlib.pyplot as plt\n",
    "from matplotlib import style\n",
    "style.use('ggplot')\n",
    "import sqlalchemy\n",
    "from sqlalchemy import create_engine, MetaData, func\n",
    "from sqlalchemy import Column, Integer, String, Float, Numeric, Text\n",
    "from sqlalchemy.ext.declarative import declarative_base\n",
    "from sqlalchemy.ext.automap import automap_base\n",
    "from sqlalchemy.orm import Session\n"
   ]
  },
  {
   "cell_type": "code",
   "execution_count": 2,
   "metadata": {},
   "outputs": [],
   "source": [
    "# Import clean data\n",
    "df_1 = pd.read_csv('clean_hawaii_measurements.csv', index_col = False)\n",
    "df_2 = pd.read_csv('clean_hawaii_stations.csv', index_col = False)\n",
    "#df_1 = df_1[['station','date','tobs','precipitation']]\n",
    "#df_2 = df_2[['station','name','latitude','longitude','elevation']]"
   ]
  },
  {
   "cell_type": "code",
   "execution_count": 3,
   "metadata": {},
   "outputs": [
    {
     "name": "stdout",
     "output_type": "stream",
     "text": [
      "<class 'pandas.core.frame.DataFrame'>\n",
      "RangeIndex: 19550 entries, 0 to 19549\n",
      "Data columns (total 4 columns):\n",
      "station          19550 non-null object\n",
      "date             19550 non-null object\n",
      "tobs             19550 non-null int64\n",
      "precipitation    19550 non-null float64\n",
      "dtypes: float64(1), int64(1), object(2)\n",
      "memory usage: 611.0+ KB\n"
     ]
    }
   ],
   "source": [
    "# Retrive the types of dataframe\n",
    "df_1.info()"
   ]
  },
  {
   "cell_type": "code",
   "execution_count": 4,
   "metadata": {},
   "outputs": [
    {
     "data": {
      "text/html": [
       "<div>\n",
       "<style scoped>\n",
       "    .dataframe tbody tr th:only-of-type {\n",
       "        vertical-align: middle;\n",
       "    }\n",
       "\n",
       "    .dataframe tbody tr th {\n",
       "        vertical-align: top;\n",
       "    }\n",
       "\n",
       "    .dataframe thead th {\n",
       "        text-align: right;\n",
       "    }\n",
       "</style>\n",
       "<table border=\"1\" class=\"dataframe\">\n",
       "  <thead>\n",
       "    <tr style=\"text-align: right;\">\n",
       "      <th></th>\n",
       "      <th>station</th>\n",
       "      <th>date</th>\n",
       "      <th>tobs</th>\n",
       "      <th>precipitation</th>\n",
       "    </tr>\n",
       "  </thead>\n",
       "  <tbody>\n",
       "    <tr>\n",
       "      <th>0</th>\n",
       "      <td>USC00519397</td>\n",
       "      <td>2010-01-01</td>\n",
       "      <td>65</td>\n",
       "      <td>0.08</td>\n",
       "    </tr>\n",
       "    <tr>\n",
       "      <th>1</th>\n",
       "      <td>USC00519397</td>\n",
       "      <td>2010-01-02</td>\n",
       "      <td>63</td>\n",
       "      <td>0.00</td>\n",
       "    </tr>\n",
       "    <tr>\n",
       "      <th>2</th>\n",
       "      <td>USC00519397</td>\n",
       "      <td>2010-01-03</td>\n",
       "      <td>74</td>\n",
       "      <td>0.00</td>\n",
       "    </tr>\n",
       "    <tr>\n",
       "      <th>3</th>\n",
       "      <td>USC00519397</td>\n",
       "      <td>2010-01-04</td>\n",
       "      <td>76</td>\n",
       "      <td>0.00</td>\n",
       "    </tr>\n",
       "    <tr>\n",
       "      <th>4</th>\n",
       "      <td>USC00519397</td>\n",
       "      <td>2010-01-06</td>\n",
       "      <td>73</td>\n",
       "      <td>0.00</td>\n",
       "    </tr>\n",
       "  </tbody>\n",
       "</table>\n",
       "</div>"
      ],
      "text/plain": [
       "       station        date  tobs  precipitation\n",
       "0  USC00519397  2010-01-01    65           0.08\n",
       "1  USC00519397  2010-01-02    63           0.00\n",
       "2  USC00519397  2010-01-03    74           0.00\n",
       "3  USC00519397  2010-01-04    76           0.00\n",
       "4  USC00519397  2010-01-06    73           0.00"
      ]
     },
     "execution_count": 4,
     "metadata": {},
     "output_type": "execute_result"
    }
   ],
   "source": [
    "df_1.head()"
   ]
  },
  {
   "cell_type": "code",
   "execution_count": 5,
   "metadata": {},
   "outputs": [
    {
     "name": "stdout",
     "output_type": "stream",
     "text": [
      "<class 'pandas.core.frame.DataFrame'>\n",
      "RangeIndex: 9 entries, 0 to 8\n",
      "Data columns (total 5 columns):\n",
      "station      9 non-null object\n",
      "name         9 non-null object\n",
      "latitude     9 non-null float64\n",
      "longitude    9 non-null float64\n",
      "elevation    9 non-null float64\n",
      "dtypes: float64(3), object(2)\n",
      "memory usage: 440.0+ bytes\n"
     ]
    }
   ],
   "source": [
    "# Retrive the types of dataframe\n",
    "df_2.info()"
   ]
  },
  {
   "cell_type": "code",
   "execution_count": 6,
   "metadata": {},
   "outputs": [
    {
     "data": {
      "text/html": [
       "<div>\n",
       "<style scoped>\n",
       "    .dataframe tbody tr th:only-of-type {\n",
       "        vertical-align: middle;\n",
       "    }\n",
       "\n",
       "    .dataframe tbody tr th {\n",
       "        vertical-align: top;\n",
       "    }\n",
       "\n",
       "    .dataframe thead th {\n",
       "        text-align: right;\n",
       "    }\n",
       "</style>\n",
       "<table border=\"1\" class=\"dataframe\">\n",
       "  <thead>\n",
       "    <tr style=\"text-align: right;\">\n",
       "      <th></th>\n",
       "      <th>station</th>\n",
       "      <th>name</th>\n",
       "      <th>latitude</th>\n",
       "      <th>longitude</th>\n",
       "      <th>elevation</th>\n",
       "    </tr>\n",
       "  </thead>\n",
       "  <tbody>\n",
       "    <tr>\n",
       "      <th>0</th>\n",
       "      <td>USC00519397</td>\n",
       "      <td>Waikiki</td>\n",
       "      <td>21.2716</td>\n",
       "      <td>-157.8168</td>\n",
       "      <td>3.0</td>\n",
       "    </tr>\n",
       "    <tr>\n",
       "      <th>1</th>\n",
       "      <td>USC00513117</td>\n",
       "      <td>Kaneohe</td>\n",
       "      <td>21.4234</td>\n",
       "      <td>-157.8015</td>\n",
       "      <td>14.6</td>\n",
       "    </tr>\n",
       "    <tr>\n",
       "      <th>2</th>\n",
       "      <td>USC00514830</td>\n",
       "      <td>Kualoa Ranch HeadQuarters</td>\n",
       "      <td>21.5213</td>\n",
       "      <td>-157.8374</td>\n",
       "      <td>7.0</td>\n",
       "    </tr>\n",
       "    <tr>\n",
       "      <th>3</th>\n",
       "      <td>USC00517948</td>\n",
       "      <td>Pearl City</td>\n",
       "      <td>21.3934</td>\n",
       "      <td>-157.9751</td>\n",
       "      <td>11.9</td>\n",
       "    </tr>\n",
       "    <tr>\n",
       "      <th>4</th>\n",
       "      <td>USC00518838</td>\n",
       "      <td>Upper Wahiawa</td>\n",
       "      <td>21.4992</td>\n",
       "      <td>-158.0111</td>\n",
       "      <td>306.6</td>\n",
       "    </tr>\n",
       "  </tbody>\n",
       "</table>\n",
       "</div>"
      ],
      "text/plain": [
       "       station                       name  latitude  longitude  elevation\n",
       "0  USC00519397                    Waikiki   21.2716  -157.8168        3.0\n",
       "1  USC00513117                    Kaneohe   21.4234  -157.8015       14.6\n",
       "2  USC00514830  Kualoa Ranch HeadQuarters   21.5213  -157.8374        7.0\n",
       "3  USC00517948                 Pearl City   21.3934  -157.9751       11.9\n",
       "4  USC00518838              Upper Wahiawa   21.4992  -158.0111      306.6"
      ]
     },
     "execution_count": 6,
     "metadata": {},
     "output_type": "execute_result"
    }
   ],
   "source": [
    "df_2.head()"
   ]
  },
  {
   "cell_type": "code",
   "execution_count": 7,
   "metadata": {},
   "outputs": [],
   "source": [
    "# Create Database Connection\n",
    "engine = create_engine('sqlite:///hawaii.sqlite')"
   ]
  },
  {
   "cell_type": "code",
   "execution_count": 8,
   "metadata": {},
   "outputs": [],
   "source": [
    "conn = engine.connect()"
   ]
  },
  {
   "cell_type": "code",
   "execution_count": 9,
   "metadata": {},
   "outputs": [],
   "source": [
    "Base = declarative_base()"
   ]
  },
  {
   "cell_type": "code",
   "execution_count": 10,
   "metadata": {},
   "outputs": [],
   "source": [
    "# Create tables\n",
    "class Measurement(Base):\n",
    "    __tablename__ = \"measurements\"\n",
    "    id = Column(Integer, primary_key=True)\n",
    "    station = Column(String)\n",
    "    date = Column(String)\n",
    "    tobs = Column(Integer)\n",
    "    precipitation = Column(Float)\n",
    "\n",
    "class Station(Base):\n",
    "    __tablename__ = 'stations'\n",
    "    id = Column(Integer, primary_key = True)\n",
    "    station = Column(String)\n",
    "    name = Column(String)\n",
    "    latitude = Column(Float)\n",
    "    longitude = Column(Float)\n",
    "    elevation = Column(Float)"
   ]
  },
  {
   "cell_type": "code",
   "execution_count": 11,
   "metadata": {},
   "outputs": [],
   "source": [
    "Base.metadata.create_all(engine)"
   ]
  },
  {
   "cell_type": "code",
   "execution_count": 12,
   "metadata": {},
   "outputs": [],
   "source": [
    "data_1 = df_1.to_dict(orient='records')\n",
    "data_2 = df_2.to_dict(orient='records')"
   ]
  },
  {
   "cell_type": "code",
   "execution_count": 13,
   "metadata": {},
   "outputs": [
    {
     "name": "stdout",
     "output_type": "stream",
     "text": [
      "[{'station': 'USC00519397', 'date': '2010-01-01', 'tobs': 65, 'precipitation': 0.08}, {'station': 'USC00519397', 'date': '2010-01-02', 'tobs': 63, 'precipitation': 0.0}, {'station': 'USC00519397', 'date': '2010-01-03', 'tobs': 74, 'precipitation': 0.0}, {'station': 'USC00519397', 'date': '2010-01-04', 'tobs': 76, 'precipitation': 0.0}, {'station': 'USC00519397', 'date': '2010-01-06', 'tobs': 73, 'precipitation': 0.0}]\n",
      "[{'station': 'USC00519397', 'name': 'Waikiki', 'latitude': 21.2716, 'longitude': -157.8168, 'elevation': 3.0}, {'station': 'USC00513117', 'name': 'Kaneohe', 'latitude': 21.4234, 'longitude': -157.8015, 'elevation': 14.6}, {'station': 'USC00514830', 'name': 'Kualoa Ranch HeadQuarters', 'latitude': 21.5213, 'longitude': -157.8374, 'elevation': 7.0}, {'station': 'USC00517948', 'name': 'Pearl City', 'latitude': 21.3934, 'longitude': -157.9751, 'elevation': 11.9}, {'station': 'USC00518838', 'name': 'Upper Wahiawa', 'latitude': 21.4992, 'longitude': -158.0111, 'elevation': 306.6}]\n"
     ]
    }
   ],
   "source": [
    "print(data_1[:5])\n",
    "print(data_2[:5])"
   ]
  },
  {
   "cell_type": "code",
   "execution_count": 14,
   "metadata": {},
   "outputs": [],
   "source": [
    "metadata = MetaData(bind=engine)\n",
    "metadata.reflect()"
   ]
  },
  {
   "cell_type": "code",
   "execution_count": 15,
   "metadata": {},
   "outputs": [],
   "source": [
    "table_1 = sqlalchemy.Table('measurements',metadata,autoload=True)\n",
    "table_2 = sqlalchemy.Table('stations',metadata,autoload=True)"
   ]
  },
  {
   "cell_type": "code",
   "execution_count": 16,
   "metadata": {},
   "outputs": [
    {
     "data": {
      "text/plain": [
       "<sqlalchemy.engine.result.ResultProxy at 0x10c23b240>"
      ]
     },
     "execution_count": 16,
     "metadata": {},
     "output_type": "execute_result"
    }
   ],
   "source": [
    "conn.execute(table_1.delete())\n",
    "conn.execute(table_2.delete())"
   ]
  },
  {
   "cell_type": "code",
   "execution_count": 17,
   "metadata": {},
   "outputs": [
    {
     "data": {
      "text/plain": [
       "<sqlalchemy.engine.result.ResultProxy at 0x10c254c18>"
      ]
     },
     "execution_count": 17,
     "metadata": {},
     "output_type": "execute_result"
    }
   ],
   "source": [
    "conn.execute(table_1.insert(),data_1)\n",
    "conn.execute(table_2.insert(),data_2)"
   ]
  },
  {
   "cell_type": "code",
   "execution_count": 18,
   "metadata": {},
   "outputs": [
    {
     "data": {
      "text/plain": [
       "[(1, 'USC00519397', '2010-01-01', 65, 0.08),\n",
       " (2, 'USC00519397', '2010-01-02', 63, 0.0),\n",
       " (3, 'USC00519397', '2010-01-03', 74, 0.0),\n",
       " (4, 'USC00519397', '2010-01-04', 76, 0.0),\n",
       " (5, 'USC00519397', '2010-01-06', 73, 0.0)]"
      ]
     },
     "execution_count": 18,
     "metadata": {},
     "output_type": "execute_result"
    }
   ],
   "source": [
    "conn.execute(\"select * from measurements limit 5\").fetchall()"
   ]
  },
  {
   "cell_type": "code",
   "execution_count": 19,
   "metadata": {},
   "outputs": [
    {
     "data": {
      "text/plain": [
       "[(1, 'USC00519397', 'Waikiki', 21.2716, -157.8168, 3.0),\n",
       " (2, 'USC00513117', 'Kaneohe', 21.4234, -157.8015, 14.6),\n",
       " (3, 'USC00514830', 'Kualoa Ranch HeadQuarters', 21.5213, -157.8374, 7.0),\n",
       " (4, 'USC00517948', 'Pearl City', 21.3934, -157.9751, 11.9),\n",
       " (5, 'USC00518838', 'Upper Wahiawa', 21.4992, -158.0111, 306.6)]"
      ]
     },
     "execution_count": 19,
     "metadata": {},
     "output_type": "execute_result"
    }
   ],
   "source": [
    "conn.execute(\"select * from stations limit 5\").fetchall()"
   ]
  },
  {
   "cell_type": "code",
   "execution_count": 20,
   "metadata": {},
   "outputs": [],
   "source": [
    "results = conn.execute('select date, precipitation from measurements where date > \"2017-01-01\" order by date ').fetchall()"
   ]
  },
  {
   "cell_type": "code",
   "execution_count": 21,
   "metadata": {},
   "outputs": [
    {
     "data": {
      "text/html": [
       "<div>\n",
       "<style scoped>\n",
       "    .dataframe tbody tr th:only-of-type {\n",
       "        vertical-align: middle;\n",
       "    }\n",
       "\n",
       "    .dataframe tbody tr th {\n",
       "        vertical-align: top;\n",
       "    }\n",
       "\n",
       "    .dataframe thead th {\n",
       "        text-align: right;\n",
       "    }\n",
       "</style>\n",
       "<table border=\"1\" class=\"dataframe\">\n",
       "  <thead>\n",
       "    <tr style=\"text-align: right;\">\n",
       "      <th></th>\n",
       "      <th>prcp</th>\n",
       "    </tr>\n",
       "    <tr>\n",
       "      <th>date</th>\n",
       "      <th></th>\n",
       "    </tr>\n",
       "  </thead>\n",
       "  <tbody>\n",
       "    <tr>\n",
       "      <th>2017-01-01</th>\n",
       "      <td>0.0</td>\n",
       "    </tr>\n",
       "    <tr>\n",
       "      <th>2017-01-02</th>\n",
       "      <td>0.0</td>\n",
       "    </tr>\n",
       "    <tr>\n",
       "      <th>2017-01-03</th>\n",
       "      <td>0.0</td>\n",
       "    </tr>\n",
       "    <tr>\n",
       "      <th>2017-01-04</th>\n",
       "      <td>0.0</td>\n",
       "    </tr>\n",
       "    <tr>\n",
       "      <th>2017-01-05</th>\n",
       "      <td>0.0</td>\n",
       "    </tr>\n",
       "    <tr>\n",
       "      <th>2017-01-06</th>\n",
       "      <td>0.0</td>\n",
       "    </tr>\n",
       "    <tr>\n",
       "      <th>2017-01-07</th>\n",
       "      <td>0.0</td>\n",
       "    </tr>\n",
       "    <tr>\n",
       "      <th>2017-01-08</th>\n",
       "      <td>0.0</td>\n",
       "    </tr>\n",
       "    <tr>\n",
       "      <th>2017-01-09</th>\n",
       "      <td>0.0</td>\n",
       "    </tr>\n",
       "    <tr>\n",
       "      <th>2017-01-10</th>\n",
       "      <td>0.0</td>\n",
       "    </tr>\n",
       "  </tbody>\n",
       "</table>\n",
       "</div>"
      ],
      "text/plain": [
       "            prcp\n",
       "date            \n",
       "2017-01-01   0.0\n",
       "2017-01-02   0.0\n",
       "2017-01-03   0.0\n",
       "2017-01-04   0.0\n",
       "2017-01-05   0.0\n",
       "2017-01-06   0.0\n",
       "2017-01-07   0.0\n",
       "2017-01-08   0.0\n",
       "2017-01-09   0.0\n",
       "2017-01-10   0.0"
      ]
     },
     "execution_count": 21,
     "metadata": {},
     "output_type": "execute_result"
    }
   ],
   "source": [
    "# Connect to database and query\n",
    "Base = automap_base()\n",
    "Base.prepare(engine, reflect = True)\n",
    "session = Session(engine)\n",
    "\n",
    "measurements = Base.classes.measurements\n",
    "stations = Base.classes.stations\n",
    "\n",
    "results = session.query(measurements.date, measurements.precipitation).\\\n",
    "                    filter(measurements.date >= '2017-01-01').all()\n",
    "    \n",
    "df_results = pd.DataFrame(results,columns = ['date','prcp'])\n",
    "df_results.set_index('date',inplace = True)\n",
    "df_results.head(10)"
   ]
  },
  {
   "cell_type": "code",
   "execution_count": 34,
   "metadata": {},
   "outputs": [
    {
     "data": {
      "image/png": "[encoded data removed]",
      "text/plain": [
       "<matplotlib.figure.Figure at 0x11160f2b0>"
      ]
     },
     "metadata": {},
     "output_type": "display_data"
    },
    {
     "data": {
      "text/plain": [
       "<matplotlib.figure.Figure at 0x1116594a8>"
      ]
     },
     "metadata": {},
     "output_type": "display_data"
    }
   ],
   "source": [
    "df_results.plot(title='Precipitation Analysis',color='blue')\n",
    "plt.tight_layout()\n",
    "plt.show()\n",
    "plt.savefig('Precipitation Analysis.png')"
   ]
  },
  {
   "cell_type": "code",
   "execution_count": 23,
   "metadata": {},
   "outputs": [
    {
     "data": {
      "text/html": [
       "<div>\n",
       "<style scoped>\n",
       "    .dataframe tbody tr th:only-of-type {\n",
       "        vertical-align: middle;\n",
       "    }\n",
       "\n",
       "    .dataframe tbody tr th {\n",
       "        vertical-align: top;\n",
       "    }\n",
       "\n",
       "    .dataframe thead th {\n",
       "        text-align: right;\n",
       "    }\n",
       "</style>\n",
       "<table border=\"1\" class=\"dataframe\">\n",
       "  <thead>\n",
       "    <tr style=\"text-align: right;\">\n",
       "      <th></th>\n",
       "      <th>prcp</th>\n",
       "    </tr>\n",
       "  </thead>\n",
       "  <tbody>\n",
       "    <tr>\n",
       "      <th>count</th>\n",
       "      <td>1397.000000</td>\n",
       "    </tr>\n",
       "    <tr>\n",
       "      <th>mean</th>\n",
       "      <td>0.150487</td>\n",
       "    </tr>\n",
       "    <tr>\n",
       "      <th>std</th>\n",
       "      <td>0.434943</td>\n",
       "    </tr>\n",
       "    <tr>\n",
       "      <th>min</th>\n",
       "      <td>0.000000</td>\n",
       "    </tr>\n",
       "    <tr>\n",
       "      <th>25%</th>\n",
       "      <td>0.000000</td>\n",
       "    </tr>\n",
       "    <tr>\n",
       "      <th>50%</th>\n",
       "      <td>0.000000</td>\n",
       "    </tr>\n",
       "    <tr>\n",
       "      <th>75%</th>\n",
       "      <td>0.090000</td>\n",
       "    </tr>\n",
       "    <tr>\n",
       "      <th>max</th>\n",
       "      <td>6.250000</td>\n",
       "    </tr>\n",
       "  </tbody>\n",
       "</table>\n",
       "</div>"
      ],
      "text/plain": [
       "              prcp\n",
       "count  1397.000000\n",
       "mean      0.150487\n",
       "std       0.434943\n",
       "min       0.000000\n",
       "25%       0.000000\n",
       "50%       0.000000\n",
       "75%       0.090000\n",
       "max       6.250000"
      ]
     },
     "execution_count": 23,
     "metadata": {},
     "output_type": "execute_result"
    }
   ],
   "source": [
    "df_results.describe()"
   ]
  },
  {
   "cell_type": "code",
   "execution_count": 24,
   "metadata": {},
   "outputs": [
    {
     "data": {
      "text/plain": [
       "9"
      ]
     },
     "execution_count": 24,
     "metadata": {},
     "output_type": "execute_result"
    }
   ],
   "source": [
    "# Query to calculate the total number of stations\n",
    "total_stations = session.query(measurements).group_by(measurements.station).count()\n",
    "total_stations            "
   ]
  },
  {
   "cell_type": "code",
   "execution_count": 25,
   "metadata": {},
   "outputs": [
    {
     "data": {
      "text/plain": [
       "[(87, 'USC00519397')]"
      ]
     },
     "execution_count": 25,
     "metadata": {},
     "output_type": "execute_result"
    }
   ],
   "source": [
    "# Query to find the station with the highest number of observations\n",
    "most_obs = session.query(func.max(measurements.tobs),measurements.station).all()\n",
    "most_obs"
   ]
  },
  {
   "cell_type": "code",
   "execution_count": 26,
   "metadata": {},
   "outputs": [
    {
     "data": {
      "text/plain": [
       "[('USC00514830', 82),\n",
       " ('USC00519523', 82),\n",
       " ('USC00517948', 81),\n",
       " ('USC00519397', 81),\n",
       " ('USC00519281', 79),\n",
       " ('USC00513117', 77),\n",
       " ('USC00516128', 76),\n",
       " ('USC00518838', 70),\n",
       " ('USC00511918', 64)]"
      ]
     },
     "execution_count": 26,
     "metadata": {},
     "output_type": "execute_result"
    }
   ],
   "source": [
    "# List of stations and obsevations counts in descending order\n",
    "observation_stations = session.query(measurements.station,measurements.tobs).\\\n",
    "        group_by(measurements.station).\\\n",
    "        order_by(measurements.tobs.desc()).all()\n",
    "observation_stations"
   ]
  },
  {
   "cell_type": "code",
   "execution_count": 27,
   "metadata": {},
   "outputs": [
    {
     "data": {
      "text/plain": [
       "[(62, '2017-01-01'),\n",
       " (66, '2017-01-02'),\n",
       " (63, '2017-01-03'),\n",
       " (62, '2017-01-04'),\n",
       " (63, '2017-01-05'),\n",
       " (64, '2017-01-06'),\n",
       " (66, '2017-01-07'),\n",
       " (60, '2017-01-08'),\n",
       " (64, '2017-01-09'),\n",
       " (63, '2017-01-10'),\n",
       " (78, '2017-01-11'),\n",
       " (67, '2017-01-12'),\n",
       " (67, '2017-01-13'),\n",
       " (65, '2017-01-14'),\n",
       " (66, '2017-01-15'),\n",
       " (67, '2017-01-16'),\n",
       " (66, '2017-01-17'),\n",
       " (72, '2017-01-18'),\n",
       " (73, '2017-01-19'),\n",
       " (71, '2017-01-20'),\n",
       " (72, '2017-01-21'),\n",
       " (72, '2017-01-22'),\n",
       " (72, '2017-01-23'),\n",
       " (69, '2017-01-24'),\n",
       " (72, '2017-01-25'),\n",
       " (71, '2017-01-26'),\n",
       " (65, '2017-01-27'),\n",
       " (64, '2017-01-28'),\n",
       " (67, '2017-01-29'),\n",
       " (67, '2017-01-30'),\n",
       " (68, '2017-01-31'),\n",
       " (70, '2017-02-01'),\n",
       " (61, '2017-02-02'),\n",
       " (65, '2017-02-03'),\n",
       " (72, '2017-02-04'),\n",
       " (73, '2017-02-05'),\n",
       " (76, '2017-02-06'),\n",
       " (64, '2017-02-07'),\n",
       " (62, '2017-02-08'),\n",
       " (61, '2017-02-09'),\n",
       " (71, '2017-02-10'),\n",
       " (69, '2017-02-11'),\n",
       " (68, '2017-02-12'),\n",
       " (74, '2017-02-13'),\n",
       " (75, '2017-02-14'),\n",
       " (75, '2017-02-15'),\n",
       " (71, '2017-02-16'),\n",
       " (71, '2017-02-17'),\n",
       " (68, '2017-02-18'),\n",
       " (69, '2017-02-19'),\n",
       " (71, '2017-02-20'),\n",
       " (70, '2017-02-21'),\n",
       " (72, '2017-02-22'),\n",
       " (74, '2017-02-23'),\n",
       " (70, '2017-02-24'),\n",
       " (64, '2017-02-25'),\n",
       " (65, '2017-02-26'),\n",
       " (72, '2017-02-27'),\n",
       " (74, '2017-02-28'),\n",
       " (66, '2017-03-01'),\n",
       " (73, '2017-03-02'),\n",
       " (69, '2017-03-03'),\n",
       " (74, '2017-03-04'),\n",
       " (71, '2017-03-05'),\n",
       " (69, '2017-03-06'),\n",
       " (68, '2017-03-07'),\n",
       " (71, '2017-03-08'),\n",
       " (72, '2017-03-09'),\n",
       " (68, '2017-03-10'),\n",
       " (71, '2017-03-11'),\n",
       " (74, '2017-03-12'),\n",
       " (71, '2017-03-13'),\n",
       " (71, '2017-03-14'),\n",
       " (71, '2017-03-15'),\n",
       " (70, '2017-03-16'),\n",
       " (72, '2017-03-17'),\n",
       " (69, '2017-03-18'),\n",
       " (73, '2017-03-19'),\n",
       " (75, '2017-03-20'),\n",
       " (75, '2017-03-21'),\n",
       " (74, '2017-03-22'),\n",
       " (70, '2017-03-23'),\n",
       " (73, '2017-03-24'),\n",
       " (76, '2017-03-25'),\n",
       " (76, '2017-03-26'),\n",
       " (75, '2017-03-27'),\n",
       " (77, '2017-03-28'),\n",
       " (76, '2017-03-29'),\n",
       " (77, '2017-03-30'),\n",
       " (76, '2017-03-31'),\n",
       " (76, '2017-04-01'),\n",
       " (76, '2017-04-02'),\n",
       " (77, '2017-04-03'),\n",
       " (76, '2017-04-04'),\n",
       " (78, '2017-04-05'),\n",
       " (77, '2017-04-06'),\n",
       " (77, '2017-04-07'),\n",
       " (77, '2017-04-08'),\n",
       " (72, '2017-04-09'),\n",
       " (75, '2017-04-10'),\n",
       " (79, '2017-04-11'),\n",
       " (78, '2017-04-12'),\n",
       " (77, '2017-04-13'),\n",
       " (75, '2017-04-14'),\n",
       " (73, '2017-04-15'),\n",
       " (74, '2017-04-16'),\n",
       " (74, '2017-04-17'),\n",
       " (75, '2017-04-18'),\n",
       " (74, '2017-04-19'),\n",
       " (78, '2017-04-20'),\n",
       " (73, '2017-04-21'),\n",
       " (76, '2017-04-22'),\n",
       " (77, '2017-04-23'),\n",
       " (77, '2017-04-24'),\n",
       " (77, '2017-04-25'),\n",
       " (77, '2017-04-26'),\n",
       " (78, '2017-04-27'),\n",
       " (76, '2017-04-28'),\n",
       " (72, '2017-04-29'),\n",
       " (63, '2017-04-30'),\n",
       " (75, '2017-05-01'),\n",
       " (78, '2017-05-02'),\n",
       " (78, '2017-05-03'),\n",
       " (78, '2017-05-04'),\n",
       " (79, '2017-05-05'),\n",
       " (79, '2017-05-06'),\n",
       " (79, '2017-05-07'),\n",
       " (77, '2017-05-08'),\n",
       " (78, '2017-05-10'),\n",
       " (78, '2017-05-11'),\n",
       " (79, '2017-05-12'),\n",
       " (79, '2017-05-13'),\n",
       " (77, '2017-05-14'),\n",
       " (78, '2017-05-15'),\n",
       " (78, '2017-05-16'),\n",
       " (78, '2017-05-17'),\n",
       " (73, '2017-05-18'),\n",
       " (76, '2017-05-19'),\n",
       " (78, '2017-05-20'),\n",
       " (76, '2017-05-21'),\n",
       " (77, '2017-05-22'),\n",
       " (87, '2017-05-23'),\n",
       " (77, '2017-05-24'),\n",
       " (77, '2017-05-25'),\n",
       " (74, '2017-05-27'),\n",
       " (76, '2017-05-28'),\n",
       " (75, '2017-05-29'),\n",
       " (76, '2017-05-30'),\n",
       " (79, '2017-05-31'),\n",
       " (79, '2017-06-01'),\n",
       " (79, '2017-06-02'),\n",
       " (79, '2017-06-03'),\n",
       " (79, '2017-06-04'),\n",
       " (80, '2017-06-05'),\n",
       " (79, '2017-06-06'),\n",
       " (79, '2017-06-07'),\n",
       " (80, '2017-06-08'),\n",
       " (80, '2017-06-09'),\n",
       " (77, '2017-06-10'),\n",
       " (79, '2017-06-11'),\n",
       " (83, '2017-06-12'),\n",
       " (80, '2017-06-13'),\n",
       " (80, '2017-06-14'),\n",
       " (78, '2017-06-15'),\n",
       " (79, '2017-06-16'),\n",
       " (80, '2017-06-17'),\n",
       " (77, '2017-06-18'),\n",
       " (80, '2017-06-19'),\n",
       " (78, '2017-06-20'),\n",
       " (79, '2017-06-21'),\n",
       " (80, '2017-06-22'),\n",
       " (78, '2017-06-23'),\n",
       " (80, '2017-06-24'),\n",
       " (80, '2017-06-25'),\n",
       " (81, '2017-06-26'),\n",
       " (80, '2017-06-27'),\n",
       " (79, '2017-06-28'),\n",
       " (79, '2017-06-29'),\n",
       " (75, '2017-06-30'),\n",
       " (80, '2017-07-01'),\n",
       " (80, '2017-07-02'),\n",
       " (78, '2017-07-03'),\n",
       " (80, '2017-07-04'),\n",
       " (80, '2017-07-05'),\n",
       " (81, '2017-07-06'),\n",
       " (79, '2017-07-07'),\n",
       " (80, '2017-07-08'),\n",
       " (80, '2017-07-09'),\n",
       " (80, '2017-07-10'),\n",
       " (78, '2017-07-11'),\n",
       " (81, '2017-07-12'),\n",
       " (79, '2017-07-13'),\n",
       " (81, '2017-07-14'),\n",
       " (80, '2017-07-15'),\n",
       " (78, '2017-07-16'),\n",
       " (80, '2017-07-17'),\n",
       " (80, '2017-07-18'),\n",
       " (80, '2017-07-20'),\n",
       " (80, '2017-07-21'),\n",
       " (81, '2017-07-22'),\n",
       " (81, '2017-07-23'),\n",
       " (78, '2017-07-24'),\n",
       " (80, '2017-07-25'),\n",
       " (82, '2017-07-26'),\n",
       " (79, '2017-07-27'),\n",
       " (81, '2017-07-28'),\n",
       " (81, '2017-07-29'),\n",
       " (81, '2017-07-30'),\n",
       " (80, '2017-07-31'),\n",
       " (77, '2017-08-01'),\n",
       " (73, '2017-08-02'),\n",
       " (79, '2017-08-03'),\n",
       " (80, '2017-08-04'),\n",
       " (81, '2017-08-05'),\n",
       " (80, '2017-08-06'),\n",
       " (80, '2017-08-07'),\n",
       " (80, '2017-08-08'),\n",
       " (80, '2017-08-09'),\n",
       " (81, '2017-08-10'),\n",
       " (78, '2017-08-11'),\n",
       " (80, '2017-08-12'),\n",
       " (81, '2017-08-13'),\n",
       " (79, '2017-08-14'),\n",
       " (78, '2017-08-15'),\n",
       " (80, '2017-08-18'),\n",
       " (79, '2017-08-19'),\n",
       " (81, '2017-08-20'),\n",
       " (81, '2017-08-21'),\n",
       " (82, '2017-08-22'),\n",
       " (81, '2017-08-23')]"
      ]
     },
     "execution_count": 27,
     "metadata": {},
     "output_type": "execute_result"
    }
   ],
   "source": [
    "# Query to retrieve the last 12 months of temperature observations\n",
    "tweleve_months = session.query(measurements.tobs,measurements.date).\\\n",
    "        filter(measurements.date >= '2017-01-01').\\\n",
    "        filter(measurements.station =='USC00519397').all()\n",
    "tweleve_months"
   ]
  },
  {
   "cell_type": "code",
   "execution_count": 28,
   "metadata": {},
   "outputs": [
    {
     "data": {
      "text/html": [
       "<div>\n",
       "<style scoped>\n",
       "    .dataframe tbody tr th:only-of-type {\n",
       "        vertical-align: middle;\n",
       "    }\n",
       "\n",
       "    .dataframe tbody tr th {\n",
       "        vertical-align: top;\n",
       "    }\n",
       "\n",
       "    .dataframe thead th {\n",
       "        text-align: right;\n",
       "    }\n",
       "</style>\n",
       "<table border=\"1\" class=\"dataframe\">\n",
       "  <thead>\n",
       "    <tr style=\"text-align: right;\">\n",
       "      <th></th>\n",
       "      <th>tobs</th>\n",
       "    </tr>\n",
       "    <tr>\n",
       "      <th>date</th>\n",
       "      <th></th>\n",
       "    </tr>\n",
       "  </thead>\n",
       "  <tbody>\n",
       "    <tr>\n",
       "      <th>2017-01-01</th>\n",
       "      <td>62</td>\n",
       "    </tr>\n",
       "    <tr>\n",
       "      <th>2017-01-02</th>\n",
       "      <td>66</td>\n",
       "    </tr>\n",
       "    <tr>\n",
       "      <th>2017-01-03</th>\n",
       "      <td>63</td>\n",
       "    </tr>\n",
       "    <tr>\n",
       "      <th>2017-01-04</th>\n",
       "      <td>62</td>\n",
       "    </tr>\n",
       "    <tr>\n",
       "      <th>2017-01-05</th>\n",
       "      <td>63</td>\n",
       "    </tr>\n",
       "    <tr>\n",
       "      <th>2017-01-06</th>\n",
       "      <td>64</td>\n",
       "    </tr>\n",
       "    <tr>\n",
       "      <th>2017-01-07</th>\n",
       "      <td>66</td>\n",
       "    </tr>\n",
       "    <tr>\n",
       "      <th>2017-01-08</th>\n",
       "      <td>60</td>\n",
       "    </tr>\n",
       "    <tr>\n",
       "      <th>2017-01-09</th>\n",
       "      <td>64</td>\n",
       "    </tr>\n",
       "    <tr>\n",
       "      <th>2017-01-10</th>\n",
       "      <td>63</td>\n",
       "    </tr>\n",
       "  </tbody>\n",
       "</table>\n",
       "</div>"
      ],
      "text/plain": [
       "            tobs\n",
       "date            \n",
       "2017-01-01    62\n",
       "2017-01-02    66\n",
       "2017-01-03    63\n",
       "2017-01-04    62\n",
       "2017-01-05    63\n",
       "2017-01-06    64\n",
       "2017-01-07    66\n",
       "2017-01-08    60\n",
       "2017-01-09    64\n",
       "2017-01-10    63"
      ]
     },
     "execution_count": 28,
     "metadata": {},
     "output_type": "execute_result"
    }
   ],
   "source": [
    "df2_results = pd.DataFrame(tweleve_months,columns = ['tobs','date'])\n",
    "df2_results.set_index('date',inplace = True)\n",
    "df2_results.head(10)"
   ]
  },
  {
   "cell_type": "code",
   "execution_count": 36,
   "metadata": {},
   "outputs": [
    {
     "data": {
      "image/png": "[encoded data removed]",
      "text/plain": [
       "<matplotlib.figure.Figure at 0x1115a62e8>"
      ]
     },
     "metadata": {},
     "output_type": "display_data"
    },
    {
     "data": {
      "text/plain": [
       "<matplotlib.figure.Figure at 0x111b48e80>"
      ]
     },
     "metadata": {},
     "output_type": "display_data"
    }
   ],
   "source": [
    "df2_results.plot(kind='hist',bins=12,title='Station Analysis',color='blue')\n",
    "plt.xlabel('Number of Total Observations')\n",
    "plt.show()\n",
    "plt.savefig('Station Analysis.png')"
   ]
  },
  {
   "cell_type": "code",
   "execution_count": 30,
   "metadata": {},
   "outputs": [
    {
     "data": {
      "text/plain": [
       "[(64, 72.02777777777777, 78)]"
      ]
     },
     "execution_count": 30,
     "metadata": {},
     "output_type": "execute_result"
    }
   ],
   "source": [
    "def calc_temps(start_date, end_date):\n",
    "    \"\"\"TMIN, TAVG, and TMAX for a list of dates.\n",
    "    \n",
    "    Args:\n",
    "        start_date (string): A date string in the format %Y-%m-%d\n",
    "        end_date (string): A date string in the format %Y-%m-%d\n",
    "        \n",
    "    Returns:\n",
    "        TMIN, TAVE, and TMAX\n",
    "    \"\"\"\n",
    "    \n",
    "    return session.query(func.min(Measurement.tobs), func.avg(Measurement.tobs), func.max(Measurement.tobs)).\\\n",
    "        filter(Measurement.date >= start_date).filter(Measurement.date <= end_date).all()\n",
    "\n",
    "results = (calc_temps('2017-02-28', '2017-03-05'))\n",
    "results"
   ]
  },
  {
   "cell_type": "code",
   "execution_count": 31,
   "metadata": {},
   "outputs": [
    {
     "data": {
      "text/plain": [
       "72.02777777777777"
      ]
     },
     "execution_count": 31,
     "metadata": {},
     "output_type": "execute_result"
    }
   ],
   "source": [
    "ptps = list(np.ravel(results))\n",
    "ptps\n",
    "height = ptps[1]\n",
    "height"
   ]
  },
  {
   "cell_type": "code",
   "execution_count": 37,
   "metadata": {},
   "outputs": [
    {
     "data": {
      "image/png": "[encoded data removed]",
      "text/plain": [
       "<matplotlib.figure.Figure at 0x1116a70b8>"
      ]
     },
     "metadata": {},
     "output_type": "display_data"
    },
    {
     "data": {
      "text/plain": [
       "<matplotlib.figure.Figure at 0x1117589e8>"
      ]
     },
     "metadata": {},
     "output_type": "display_data"
    }
   ],
   "source": [
    "plt.bar(np.arange(3),height,width = 0.35,yerr=12, color = 'skyblue')\n",
    "plt.xticks(np.arange(3), ('Min Temperature','Avg Temperature','Max Temperature'))\n",
    "plt.title('Temperature Analysis')\n",
    "plt.xlabel('Categories')\n",
    "plt.ylabel('Temperature(F)')\n",
    "plt.show()\n",
    "plt.savefig('Temperature Analysis.png')"
   ]
  },
  {
   "cell_type": "code",
   "execution_count": null,
   "metadata": {},
   "outputs": [],
   "source": []
  }
 ],
 "metadata": {
  "kernelspec": {
   "display_name": "Python 3",
   "language": "python",
   "name": "python3"
  },
  "language_info": {
   "codemirror_mode": {
    "name": "ipython",
    "version": 3
   },
   "file_extension": ".py",
   "mimetype": "text/x-python",
   "name": "python",
   "nbconvert_exporter": "python",
   "pygments_lexer": "ipython3",
   "version": "3.6.4"
  }
 },
 "nbformat": 4,
 "nbformat_minor": 2
}
